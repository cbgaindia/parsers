{
 "cells": [
  {
   "cell_type": "code",
   "execution_count": 1,
   "metadata": {},
   "outputs": [],
   "source": [
    "import pandas as pd"
   ]
  },
  {
   "cell_type": "code",
   "execution_count": 11,
   "metadata": {},
   "outputs": [],
   "source": [
    "pd.options.display.float_format = 'Rs. {:,.2f}'.format"
   ]
  },
  {
   "cell_type": "code",
   "execution_count": 12,
   "metadata": {},
   "outputs": [],
   "source": [
    "data = pd.read_csv('../csvs/ditrict_treasuries/ap/2017-18/krishna.csv')"
   ]
  },
  {
   "cell_type": "code",
   "execution_count": 13,
   "metadata": {},
   "outputs": [
    {
     "data": {
      "text/plain": [
       "MONTH\n",
       "APRIL   Rs. 11,490,450,276.00\n",
       "AUG      Rs. 8,815,905,174.00\n",
       "DEC     Rs. 11,219,265,393.00\n",
       "FEB      Rs. 8,110,764,572.00\n",
       "JAN      Rs. 8,600,017,738.00\n",
       "JULY     Rs. 9,658,248,634.00\n",
       "JUNE    Rs. 14,368,120,194.00\n",
       "MAR     Rs. 19,584,976,068.00\n",
       "MAY     Rs. 11,089,880,818.00\n",
       "NOV      Rs. 8,280,076,233.00\n",
       "OCT      Rs. 7,125,799,202.00\n",
       "SEP     Rs. 12,229,282,670.00\n",
       "Name: AMOUNT, dtype: float64"
      ]
     },
     "execution_count": 13,
     "metadata": {},
     "output_type": "execute_result"
    }
   ],
   "source": [
    "data.groupby('MONTH')['AMOUNT'].sum()"
   ]
  },
  {
   "cell_type": "code",
   "execution_count": 14,
   "metadata": {},
   "outputs": [
    {
     "data": {
      "text/plain": [
       "Index([u'AMOUNT', u'DH', u'DISTRICT', u'GSH', u'MH', u'MH TYPE', u'MINH',\n",
       "       u'MONTH', u'NPN', u'SDH', u'SH', u'SMH', u'mh_desc', u'smh_desc',\n",
       "       u'minh_desc', u'gsh_desc', u'sh_desc', u'dh_desc', u'sdh_desc', u'cv',\n",
       "       u'mhtype', u'hoa'],\n",
       "      dtype='object')"
      ]
     },
     "execution_count": 14,
     "metadata": {},
     "output_type": "execute_result"
    }
   ],
   "source": [
    "data.columns"
   ]
  },
  {
   "cell_type": "code",
   "execution_count": 20,
   "metadata": {},
   "outputs": [],
   "source": [
    "data['mh_desc_filled'] = data['mh_desc'].fillna(value='N/A')\n",
    "data.groupby(['mh_desc_filled'])['AMOUNT'].sum().to_csv('groupby_mh.csv')"
   ]
  },
  {
   "cell_type": "code",
   "execution_count": null,
   "metadata": {},
   "outputs": [],
   "source": []
  }
 ],
 "metadata": {
  "kernelspec": {
   "display_name": "cbga py2",
   "language": "python",
   "name": "cbga_py2"
  },
  "language_info": {
   "codemirror_mode": {
    "name": "ipython",
    "version": 2
   },
   "file_extension": ".py",
   "mimetype": "text/x-python",
   "name": "python",
   "nbconvert_exporter": "python",
   "pygments_lexer": "ipython2",
   "version": "2.7.15"
  }
 },
 "nbformat": 4,
 "nbformat_minor": 2
}
