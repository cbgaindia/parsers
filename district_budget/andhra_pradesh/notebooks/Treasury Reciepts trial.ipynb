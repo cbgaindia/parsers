{
 "cells": [
  {
   "cell_type": "code",
   "execution_count": 1,
   "metadata": {},
   "outputs": [],
   "source": [
    "import pandas as pd\n",
    "import urllib\n",
    "import requests  \n",
    "import os"
   ]
  },
  {
   "cell_type": "code",
   "execution_count": 2,
   "metadata": {},
   "outputs": [],
   "source": [
    "%matplotlib inline"
   ]
  },
  {
   "cell_type": "code",
   "execution_count": 3,
   "metadata": {},
   "outputs": [],
   "source": [
    "pd.set_option('display.precision', 2)\n",
    "pd.set_option('display.float_format', lambda x: '%.3f' % x)"
   ]
  },
  {
   "cell_type": "code",
   "execution_count": 4,
   "metadata": {},
   "outputs": [],
   "source": [
    "def get_receipt_data(date):\n",
    "    month_year = date.strftime('%m/%Y')\n",
    "    date_month_year = date.strftime('%d-%m-%Y')\n",
    "    uri = 'https://treasury.ap.gov.in/cybertry/index1.php'\n",
    "    body = {'service': 'datewise',\n",
    "            'hdn': 2,\n",
    "            'edate': month_year,\n",
    "            'hoacc': date_month_year,\n",
    "            'bankname': date_month_year,\n",
    "            'mmyy': month_year\n",
    "           }\n",
    "    resp = requests.post(uri, data=body)\n",
    "    data_tables = pd.read_html(resp.text)\n",
    "    data = data_tables[0]\n",
    "    print(data.shape, date_month_year)\n",
    "    data.columns = data.iloc[0]\n",
    "    data.drop(0, inplace=True)\n",
    "    return data"
   ]
  },
  {
   "cell_type": "code",
   "execution_count": 5,
   "metadata": {},
   "outputs": [],
   "source": [
    "def get_receipt_data_date_range(start_day, end_day):\n",
    "    '''date time format mm-dd-yyyy'''\n",
    "    combined_data = pd.DataFrame()\n",
    "    existing_files = os.listdir('temp_data/')\n",
    "    for date in pd.date_range(start_day, end_day):\n",
    "        date_month_year = date.strftime('%d-%m-%Y')\n",
    "        filename = '{0}.csv'.format(date_month_year)\n",
    "        if filename not in existing_files:\n",
    "            data = get_receipt_data(date)\n",
    "            data.to_csv('temp_data/{0}'.format(filename))\n",
    "        else:\n",
    "            data = pd.read_csv('temp_data/{0}'.format(filename))\n",
    "        combined_data = pd.concat([combined_data, data])\n",
    "    return combined_data"
   ]
  },
  {
   "cell_type": "code",
   "execution_count": 7,
   "metadata": {
    "scrolled": true
   },
   "outputs": [],
   "source": [
    "sample_data = get_receipt_data_date_range('04-01-2017', '05-01-2018')"
   ]
  },
  {
   "cell_type": "code",
   "execution_count": 8,
   "metadata": {},
   "outputs": [],
   "source": [
    "hoas = pd.read_csv('hoa_2018.csv')"
   ]
  },
  {
   "cell_type": "code",
   "execution_count": 9,
   "metadata": {},
   "outputs": [
    {
     "data": {
      "text/html": [
       "<div>\n",
       "<style scoped>\n",
       "    .dataframe tbody tr th:only-of-type {\n",
       "        vertical-align: middle;\n",
       "    }\n",
       "\n",
       "    .dataframe tbody tr th {\n",
       "        vertical-align: top;\n",
       "    }\n",
       "\n",
       "    .dataframe thead th {\n",
       "        text-align: right;\n",
       "    }\n",
       "</style>\n",
       "<table border=\"1\" class=\"dataframe\">\n",
       "  <thead>\n",
       "    <tr style=\"text-align: right;\">\n",
       "      <th></th>\n",
       "      <th>0</th>\n",
       "      <th>demand</th>\n",
       "      <th>demandname</th>\n",
       "      <th>sdept</th>\n",
       "      <th>dept_code</th>\n",
       "      <th>sdeptname</th>\n",
       "      <th>mh</th>\n",
       "      <th>mh_desc</th>\n",
       "      <th>smh</th>\n",
       "      <th>smh_desc</th>\n",
       "      <th>...</th>\n",
       "      <th>dh_desc</th>\n",
       "      <th>sdh</th>\n",
       "      <th>sdh_desc</th>\n",
       "      <th>cv</th>\n",
       "      <th>accts_1516</th>\n",
       "      <th>be_1617</th>\n",
       "      <th>re_1617</th>\n",
       "      <th>be_1718</th>\n",
       "      <th>mhtype</th>\n",
       "      <th>hoa</th>\n",
       "    </tr>\n",
       "  </thead>\n",
       "  <tbody>\n",
       "    <tr>\n",
       "      <th>1</th>\n",
       "      <td>1</td>\n",
       "      <td>NaN</td>\n",
       "      <td>NaN</td>\n",
       "      <td>NaN</td>\n",
       "      <td>NaN</td>\n",
       "      <td>NaN</td>\n",
       "      <td>0020</td>\n",
       "      <td>Corporation tax</td>\n",
       "      <td>00</td>\n",
       "      <td>Not Applicable</td>\n",
       "      <td>...</td>\n",
       "      <td>Not Applicable</td>\n",
       "      <td>000</td>\n",
       "      <td>Not Applicable</td>\n",
       "      <td>V</td>\n",
       "      <td>68897100</td>\n",
       "      <td>77293400</td>\n",
       "      <td>80499006</td>\n",
       "      <td>85837400</td>\n",
       "      <td>1</td>\n",
       "      <td>0020009010001000000NVN</td>\n",
       "    </tr>\n",
       "    <tr>\n",
       "      <th>2</th>\n",
       "      <td>2</td>\n",
       "      <td>NaN</td>\n",
       "      <td>NaN</td>\n",
       "      <td>NaN</td>\n",
       "      <td>NaN</td>\n",
       "      <td>NaN</td>\n",
       "      <td>0021</td>\n",
       "      <td>Taxes on Income Other Than Corporation Tax</td>\n",
       "      <td>00</td>\n",
       "      <td>Not Applicable</td>\n",
       "      <td>...</td>\n",
       "      <td>Not Applicable</td>\n",
       "      <td>000</td>\n",
       "      <td>Not Applicable</td>\n",
       "      <td>V</td>\n",
       "      <td>47920700</td>\n",
       "      <td>59900200</td>\n",
       "      <td>60842567</td>\n",
       "      <td>75044200</td>\n",
       "      <td>1</td>\n",
       "      <td>0021009010001000000NVN</td>\n",
       "    </tr>\n",
       "    <tr>\n",
       "      <th>3</th>\n",
       "      <td>3</td>\n",
       "      <td>NaN</td>\n",
       "      <td>NaN</td>\n",
       "      <td>NaN</td>\n",
       "      <td>NaN</td>\n",
       "      <td>NaN</td>\n",
       "      <td>0028</td>\n",
       "      <td>Other Taxes on Income and Expenditure</td>\n",
       "      <td>00</td>\n",
       "      <td>Not Applicable</td>\n",
       "      <td>...</td>\n",
       "      <td>Not Applicable</td>\n",
       "      <td>000</td>\n",
       "      <td>Not Applicable</td>\n",
       "      <td>V</td>\n",
       "      <td>2229564</td>\n",
       "      <td>3444158</td>\n",
       "      <td>3516485</td>\n",
       "      <td>3691306</td>\n",
       "      <td>1</td>\n",
       "      <td>0028001070001000000NVN</td>\n",
       "    </tr>\n",
       "    <tr>\n",
       "      <th>4</th>\n",
       "      <td>4</td>\n",
       "      <td>NaN</td>\n",
       "      <td>NaN</td>\n",
       "      <td>NaN</td>\n",
       "      <td>NaN</td>\n",
       "      <td>NaN</td>\n",
       "      <td>0028</td>\n",
       "      <td>Other Taxes on Income and Expenditure</td>\n",
       "      <td>00</td>\n",
       "      <td>Not Applicable</td>\n",
       "      <td>...</td>\n",
       "      <td>Not Applicable</td>\n",
       "      <td>000</td>\n",
       "      <td>Not Applicable</td>\n",
       "      <td>V</td>\n",
       "      <td>123089</td>\n",
       "      <td>0</td>\n",
       "      <td>0</td>\n",
       "      <td>203788</td>\n",
       "      <td>1</td>\n",
       "      <td>0028001070003000000NVN</td>\n",
       "    </tr>\n",
       "    <tr>\n",
       "      <th>5</th>\n",
       "      <td>5</td>\n",
       "      <td>NaN</td>\n",
       "      <td>NaN</td>\n",
       "      <td>NaN</td>\n",
       "      <td>NaN</td>\n",
       "      <td>NaN</td>\n",
       "      <td>0028</td>\n",
       "      <td>Other Taxes on Income and Expenditure</td>\n",
       "      <td>00</td>\n",
       "      <td>Not Applicable</td>\n",
       "      <td>...</td>\n",
       "      <td>Not Applicable</td>\n",
       "      <td>000</td>\n",
       "      <td>Not Applicable</td>\n",
       "      <td>V</td>\n",
       "      <td>150511</td>\n",
       "      <td>0</td>\n",
       "      <td>0</td>\n",
       "      <td>249188</td>\n",
       "      <td>1</td>\n",
       "      <td>0028001070004000000NVN</td>\n",
       "    </tr>\n",
       "  </tbody>\n",
       "</table>\n",
       "<p>5 rows × 27 columns</p>\n",
       "</div>"
      ],
      "text/plain": [
       "0  0 demand demandname sdept dept_code sdeptname    mh  \\\n",
       "1  1    NaN        NaN   NaN       NaN       NaN  0020   \n",
       "2  2    NaN        NaN   NaN       NaN       NaN  0021   \n",
       "3  3    NaN        NaN   NaN       NaN       NaN  0028   \n",
       "4  4    NaN        NaN   NaN       NaN       NaN  0028   \n",
       "5  5    NaN        NaN   NaN       NaN       NaN  0028   \n",
       "\n",
       "0                                     mh_desc smh        smh_desc  \\\n",
       "1                             Corporation tax  00  Not Applicable   \n",
       "2  Taxes on Income Other Than Corporation Tax  00  Not Applicable   \n",
       "3       Other Taxes on Income and Expenditure  00  Not Applicable   \n",
       "4       Other Taxes on Income and Expenditure  00  Not Applicable   \n",
       "5       Other Taxes on Income and Expenditure  00  Not Applicable   \n",
       "\n",
       "0           ...                   dh_desc  sdh        sdh_desc cv accts_1516  \\\n",
       "1           ...            Not Applicable  000  Not Applicable  V   68897100   \n",
       "2           ...            Not Applicable  000  Not Applicable  V   47920700   \n",
       "3           ...            Not Applicable  000  Not Applicable  V    2229564   \n",
       "4           ...            Not Applicable  000  Not Applicable  V     123089   \n",
       "5           ...            Not Applicable  000  Not Applicable  V     150511   \n",
       "\n",
       "0   be_1617   re_1617   be_1718 mhtype                     hoa  \n",
       "1  77293400  80499006  85837400      1  0020009010001000000NVN  \n",
       "2  59900200  60842567  75044200      1  0021009010001000000NVN  \n",
       "3   3444158   3516485   3691306      1  0028001070001000000NVN  \n",
       "4         0         0    203788      1  0028001070003000000NVN  \n",
       "5         0         0    249188      1  0028001070004000000NVN  \n",
       "\n",
       "[5 rows x 27 columns]"
      ]
     },
     "execution_count": 9,
     "metadata": {},
     "output_type": "execute_result"
    }
   ],
   "source": [
    "hoas.columns = hoas.iloc[0]\n",
    "hoas.drop(0, inplace=True)\n",
    "hoas.head()"
   ]
  },
  {
   "cell_type": "code",
   "execution_count": 10,
   "metadata": {},
   "outputs": [
    {
     "data": {
      "text/plain": [
       "True"
      ]
     },
     "execution_count": 10,
     "metadata": {},
     "output_type": "execute_result"
    }
   ],
   "source": [
    "# Check if head of account information present.\n",
    "hoas_intersection = set(sample_data['Head of Account'].astype(str).unique()) & set(hoas.hoa.astype(str).unique())\n",
    "len(hoas_intersection) == len(sample_data['Head of Account'].unique())"
   ]
  },
  {
   "cell_type": "code",
   "execution_count": 11,
   "metadata": {},
   "outputs": [
    {
     "data": {
      "text/plain": [
       "array(['0030021030001000000NVN', '0040001020005000000NVN',\n",
       "       '0045001010001000000NVN', '8443008000009000000NVN',\n",
       "       '0040001010001000000NVN', '0045008000002000000NVN',\n",
       "       '0040001070001000000NVN', '0851001020081800000NVN',\n",
       "       '0230001040001000000NVN', '0028001070001000000NVN',\n",
       "       '0045001050001000000NVN', '0217608000081000000NVN',\n",
       "       '0230001030001000000NVN', '1452008000081800000NVN',\n",
       "       '0055001020081001000NVN', '0042001060001000000NVN',\n",
       "       '0070601090002001000NVN', '0043001020001000000NVN',\n",
       "       '8443001060001000000NVN', '0030021020001000000NVN',\n",
       "       '0055008000008800000NVN', '0045001050081000000NVN',\n",
       "       '0035001010001002000NVN', '8443001010001000000NVN',\n",
       "       '0039001060001000000NVN', '0210041040001000000NVN',\n",
       "       '0030038000081001000NVN', '0030011020001000000NVN',\n",
       "       '8782001020001000000NVN', '0030011010001000000NVN'], dtype=object)"
      ]
     },
     "execution_count": 11,
     "metadata": {},
     "output_type": "execute_result"
    }
   ],
   "source": [
    "sample_data['Head of Account'].unique()"
   ]
  },
  {
   "cell_type": "code",
   "execution_count": 12,
   "metadata": {},
   "outputs": [
    {
     "data": {
      "text/plain": [
       "(965676, 12)"
      ]
     },
     "execution_count": 12,
     "metadata": {},
     "output_type": "execute_result"
    }
   ],
   "source": [
    "sample_data.shape"
   ]
  },
  {
   "cell_type": "code",
   "execution_count": 13,
   "metadata": {},
   "outputs": [
    {
     "data": {
      "text/plain": [
       "Index(['Unnamed: 0', 'Challanno', 'Dept TransId', 'Amount', 'Bank TransId',\n",
       "       'DDOCode', 'Remitters Name', 'Bank Date', 'Bank Status', 'Scroll Date',\n",
       "       'Head of Account', 'Bank'],\n",
       "      dtype='object')"
      ]
     },
     "execution_count": 13,
     "metadata": {},
     "output_type": "execute_result"
    }
   ],
   "source": [
    "sample_data.columns"
   ]
  },
  {
   "cell_type": "code",
   "execution_count": 14,
   "metadata": {},
   "outputs": [
    {
     "data": {
      "text/html": [
       "<div>\n",
       "<style scoped>\n",
       "    .dataframe tbody tr th:only-of-type {\n",
       "        vertical-align: middle;\n",
       "    }\n",
       "\n",
       "    .dataframe tbody tr th {\n",
       "        vertical-align: top;\n",
       "    }\n",
       "\n",
       "    .dataframe thead th {\n",
       "        text-align: right;\n",
       "    }\n",
       "</style>\n",
       "<table border=\"1\" class=\"dataframe\">\n",
       "  <thead>\n",
       "    <tr style=\"text-align: right;\">\n",
       "      <th></th>\n",
       "      <th>Unnamed: 0</th>\n",
       "      <th>Challanno</th>\n",
       "      <th>Dept TransId</th>\n",
       "      <th>Amount</th>\n",
       "      <th>Bank TransId</th>\n",
       "      <th>DDOCode</th>\n",
       "      <th>Remitters Name</th>\n",
       "      <th>Bank Date</th>\n",
       "      <th>Bank Status</th>\n",
       "      <th>Scroll Date</th>\n",
       "      <th>Head of Account</th>\n",
       "      <th>Bank</th>\n",
       "    </tr>\n",
       "  </thead>\n",
       "  <tbody>\n",
       "    <tr>\n",
       "      <th>0</th>\n",
       "      <td>1</td>\n",
       "      <td>1700386301</td>\n",
       "      <td>1703311104190314</td>\n",
       "      <td>6100.000</td>\n",
       "      <td>CP80357914</td>\n",
       "      <td>2012308006</td>\n",
       "      <td>MVRAO999</td>\n",
       "      <td>31-03-2017</td>\n",
       "      <td>Success</td>\n",
       "      <td>2017-04-01</td>\n",
       "      <td>0030021030001000000NVN</td>\n",
       "      <td>SBIMOPS</td>\n",
       "    </tr>\n",
       "    <tr>\n",
       "      <th>1</th>\n",
       "      <td>2</td>\n",
       "      <td>1700387438</td>\n",
       "      <td>1703311216050312</td>\n",
       "      <td>1100.000</td>\n",
       "      <td>CP80376591</td>\n",
       "      <td>2012308009</td>\n",
       "      <td>dbsayyappa</td>\n",
       "      <td>31-03-2017</td>\n",
       "      <td>Success</td>\n",
       "      <td>2017-04-01</td>\n",
       "      <td>0030021030001000000NVN</td>\n",
       "      <td>SBIMOPS</td>\n",
       "    </tr>\n",
       "    <tr>\n",
       "      <th>2</th>\n",
       "      <td>3</td>\n",
       "      <td>1700387514</td>\n",
       "      <td>1703311221350314</td>\n",
       "      <td>96050.000</td>\n",
       "      <td>CP80377881</td>\n",
       "      <td>2012308006</td>\n",
       "      <td>BTPRGANILKUMAR</td>\n",
       "      <td>31-03-2017</td>\n",
       "      <td>Success</td>\n",
       "      <td>2017-04-01</td>\n",
       "      <td>0030021030001000000NVN</td>\n",
       "      <td>SBIMOPS</td>\n",
       "    </tr>\n",
       "    <tr>\n",
       "      <th>3</th>\n",
       "      <td>4</td>\n",
       "      <td>1700388282</td>\n",
       "      <td>1703310120010314</td>\n",
       "      <td>12400.000</td>\n",
       "      <td>CP80393318</td>\n",
       "      <td>2012308006</td>\n",
       "      <td>jyothi3310</td>\n",
       "      <td>31-03-2017</td>\n",
       "      <td>Success</td>\n",
       "      <td>2017-04-01</td>\n",
       "      <td>0030021030001000000NVN</td>\n",
       "      <td>SBIMOPS</td>\n",
       "    </tr>\n",
       "    <tr>\n",
       "      <th>4</th>\n",
       "      <td>5</td>\n",
       "      <td>1700388439</td>\n",
       "      <td>1703310134120314</td>\n",
       "      <td>9100.000</td>\n",
       "      <td>CP80396476</td>\n",
       "      <td>2012308006</td>\n",
       "      <td>KOTESWARARAO9</td>\n",
       "      <td>31-03-2017</td>\n",
       "      <td>Success</td>\n",
       "      <td>2017-04-01</td>\n",
       "      <td>0030021030001000000NVN</td>\n",
       "      <td>SBIMOPS</td>\n",
       "    </tr>\n",
       "  </tbody>\n",
       "</table>\n",
       "</div>"
      ],
      "text/plain": [
       "  Unnamed: 0   Challanno      Dept TransId    Amount Bank TransId     DDOCode  \\\n",
       "0          1  1700386301  1703311104190314  6100.000   CP80357914  2012308006   \n",
       "1          2  1700387438  1703311216050312  1100.000   CP80376591  2012308009   \n",
       "2          3  1700387514  1703311221350314 96050.000   CP80377881  2012308006   \n",
       "3          4  1700388282  1703310120010314 12400.000   CP80393318  2012308006   \n",
       "4          5  1700388439  1703310134120314  9100.000   CP80396476  2012308006   \n",
       "\n",
       "   Remitters Name   Bank Date Bank Status Scroll Date         Head of Account  \\\n",
       "0        MVRAO999  31-03-2017     Success  2017-04-01  0030021030001000000NVN   \n",
       "1      dbsayyappa  31-03-2017     Success  2017-04-01  0030021030001000000NVN   \n",
       "2  BTPRGANILKUMAR  31-03-2017     Success  2017-04-01  0030021030001000000NVN   \n",
       "3      jyothi3310  31-03-2017     Success  2017-04-01  0030021030001000000NVN   \n",
       "4   KOTESWARARAO9  31-03-2017     Success  2017-04-01  0030021030001000000NVN   \n",
       "\n",
       "      Bank  \n",
       "0  SBIMOPS  \n",
       "1  SBIMOPS  \n",
       "2  SBIMOPS  \n",
       "3  SBIMOPS  \n",
       "4  SBIMOPS  "
      ]
     },
     "execution_count": 14,
     "metadata": {},
     "output_type": "execute_result"
    }
   ],
   "source": [
    "sample_data.head()"
   ]
  },
  {
   "cell_type": "code",
   "execution_count": 15,
   "metadata": {},
   "outputs": [
    {
     "data": {
      "text/plain": [
       "array(['2017-04-01', '2017-04-03', '2017-04-04', '2017-04-02',\n",
       "       '2017-04-11', '2017-04-05', '2017-04-06', '2017-04-07', nan,\n",
       "       '2017-04-10', '2017-04-08', '2017-04-09', '2017-04-12',\n",
       "       '2017-04-13', '2017-04-19', '2017-04-16', '2017-04-15',\n",
       "       '2017-04-14', '2017-04-17', '2017-04-18', '2017-04-20',\n",
       "       '2017-04-21', '2017-04-24', '2017-04-26', '2017-04-23',\n",
       "       '2017-04-22', '2017-04-25', '2017-04-27', '2017-04-28',\n",
       "       '2017-04-29', '2017-05-02', '2017-05-01', '2017-04-30',\n",
       "       '2017-05-03', '2017-05-09', '2017-05-04', '2017-05-05',\n",
       "       '2017-05-06', '2017-05-08', '2017-05-07', '2017-05-11',\n",
       "       '2017-05-10', '2017-05-12', '2017-05-15', '2017-05-14',\n",
       "       '2017-05-16', '2017-05-13', '2017-05-17', '2017-05-18',\n",
       "       '2017-05-21', '2017-05-19', '2017-05-20', '2017-05-22',\n",
       "       '2017-05-27', '2017-05-23', '2017-05-24', '2017-05-29',\n",
       "       '2017-05-25', '2017-05-26', '2017-06-01', '2017-05-31',\n",
       "       '2017-05-30', '2017-05-28', '2017-06-02', '2017-06-03',\n",
       "       '2017-06-06', '2017-06-07', '2017-06-05', '2017-06-04',\n",
       "       '2017-06-09', '2017-06-08', '2017-06-10', '2017-06-12',\n",
       "       '2017-06-11', '2017-06-13', '2017-06-14', '2017-06-15',\n",
       "       '2017-06-16', '2017-06-17', '2017-06-19', '2017-06-18',\n",
       "       '2017-06-20', '2017-06-21', '2017-06-22', '2017-06-23',\n",
       "       '2017-06-27', '2017-06-28', '2017-06-26', '2017-06-24',\n",
       "       '2017-06-25', '2017-06-29', '2017-06-30', '2017-07-01',\n",
       "       '2017-07-03', '2017-07-02', '2017-07-04', '2017-07-05',\n",
       "       '2017-07-06', '2017-07-12', '2017-07-07', '2017-07-10',\n",
       "       '2017-07-08', '2017-07-09', '2017-07-11', '2017-07-13',\n",
       "       '2017-07-14', '2017-07-15', '2017-07-17', '2017-07-16',\n",
       "       '2017-07-18', '2017-07-19', '2017-07-20', '2017-07-21',\n",
       "       '2017-07-27', '2017-07-24', '2017-07-22', '2017-07-23',\n",
       "       '2017-07-25', '2017-07-26', '2017-07-28', '2017-07-29',\n",
       "       '2017-07-31', '2017-07-30', '2017-08-01', '2017-08-02',\n",
       "       '2017-03-08', '2017-08-09', '2017-08-03', '2017-08-04',\n",
       "       '2017-08-05', '2017-08-07', '2017-08-06', '2017-08-08',\n",
       "       '2017-08-10', '2017-11-08', '2017-08-11', '2017-08-14',\n",
       "       '2017-08-15', '2017-08-12', '2017-08-13', '2017-08-16',\n",
       "       '2017-08-18', '2017-08-17', '2017-08-19', '2017-08-21',\n",
       "       '2017-08-22', '2017-08-20', '2017-08-23', '2017-08-24',\n",
       "       '2017-09-05', '2017-08-28', '2017-08-25', '2017-08-26',\n",
       "       '2017-08-29', '2017-08-27', '2017-08-31', '2017-08-30',\n",
       "       '2017-09-01', '2017-12-04', '2017-09-04', '2017-09-02',\n",
       "       '2017-09-03', '2017-09-06', '2017-09-07', '2017-09-08',\n",
       "       '2017-09-11', '2017-09-12', '2017-09-13', '2017-09-09',\n",
       "       '2017-09-10', '2017-09-16', '2017-09-18', '2017-09-14',\n",
       "       '2017-09-15', '2017-09-17', '2017-09-20', '2017-09-19',\n",
       "       '2017-09-22', '2017-09-25', '2017-09-21', '2017-09-26',\n",
       "       '2017-09-27', '2017-09-23', '2017-09-24', '2017-09-28',\n",
       "       '2017-09-29', '2017-09-30', '2017-10-04', '2017-10-05',\n",
       "       '2017-10-03', '2017-10-01', '2017-10-02', '2017-10-06',\n",
       "       '2017-10-07', '2017-10-09', '2017-10-10', '2017-10-08',\n",
       "       '2017-10-11', '2017-10-12', '2017-10-13', '2017-10-16',\n",
       "       '2017-10-17', '2017-10-14', '2017-10-15', '2017-10-18',\n",
       "       '2017-10-21', '2017-10-19', '2017-10-20', '2017-10-23',\n",
       "       '2017-10-24', '2017-10-22', '2017-10-25', '2017-10-26',\n",
       "       '2017-10-27', '2017-11-10', '2017-10-30', '2017-10-31',\n",
       "       '2017-11-02', '2017-10-28', '2017-10-29', '2017-11-01',\n",
       "       '2017-11-03', '2017-11-06', '2017-11-07', '2017-11-14',\n",
       "       '2017-11-04', '2017-11-05', '2017-11-09', '2017-11-13',\n",
       "       '2017-11-11', '2017-11-12', '2017-11-15', '2017-11-16',\n",
       "       '2017-11-17', '2017-11-18', '2017-11-21', '2017-11-20',\n",
       "       '2017-11-19', '2017-11-22', '2017-11-23', '2017-11-24',\n",
       "       '2017-11-27', '2017-11-28', '2017-11-25', '2017-11-26',\n",
       "       '2017-11-29', '2017-11-30', '2017-12-02', '2017-12-01',\n",
       "       '2017-12-03', '2017-12-06', '2017-12-05', '2017-12-07',\n",
       "       '2017-12-08', '2017-12-11', '2017-12-09', '2017-12-10',\n",
       "       '2017-12-13', '2017-12-12', '2017-12-16', '2017-12-14',\n",
       "       '2017-12-15', '2017-12-17', '2017-12-18', '2017-12-19',\n",
       "       '2017-12-20', '2017-12-21', '2017-12-22', '2017-12-24',\n",
       "       '2017-12-25', '2017-12-26', '2017-12-27', '2017-12-23',\n",
       "       '2017-12-28', '2017-12-29', '2017-12-30', '2018-01-01',\n",
       "       '2017-12-31', '2018-01-03', '2018-01-02', '2018-03-31',\n",
       "       '2018-01-04', '2018-01-09', '2018-01-05', '2018-01-06',\n",
       "       '2018-01-08', '2018-01-07', '2018-01-10', '2018-01-12',\n",
       "       '2018-01-11', '2018-01-15', '2018-01-16', '2018-01-13',\n",
       "       '2018-01-14', '2018-01-17', '2018-01-18', '2018-01-19',\n",
       "       '2018-01-20', '2018-01-23', '2018-01-22', '2018-01-21',\n",
       "       '2018-01-24', '2018-01-25', '2018-01-26', '2018-01-30',\n",
       "       '2018-01-27', '2018-01-28', '2018-01-29', '2018-01-31',\n",
       "       '2018-02-01', '2018-02-02', '2018-02-03', '2018-02-05',\n",
       "       '2018-02-06', '2018-02-04', '2018-02-07', '2018-02-08',\n",
       "       '2018-02-09', '2018-02-10', '2018-03-01', '2018-02-12',\n",
       "       '2018-02-13', '2018-02-14', '2018-02-11', '2018-02-16',\n",
       "       '2018-02-15', '2018-02-17', '2018-02-18', '2018-02-19',\n",
       "       '2018-02-20', '2018-02-21', '2018-02-22', '2018-02-23',\n",
       "       '2018-02-24', '2018-02-25', '2018-02-26', '2018-02-27',\n",
       "       '2018-02-28', '2018-03-02', '2018-03-04', '2018-03-03',\n",
       "       '2018-03-09', '2018-03-05', '2018-03-06', '2018-03-07',\n",
       "       '2018-03-08', '2018-03-13', '2018-03-14', '2018-03-12',\n",
       "       '2018-03-10', '2018-03-11', '2018-03-15', '2018-03-22',\n",
       "       '2018-03-19', '2018-03-16', '2018-03-17', '2018-03-23',\n",
       "       '2018-03-18', '2018-03-20', '2018-03-21', '2018-03-24',\n",
       "       '2018-03-27', '2018-03-26', '2018-03-30', '2018-03-25',\n",
       "       '2018-03-28', '2018-03-29'], dtype=object)"
      ]
     },
     "execution_count": 15,
     "metadata": {},
     "output_type": "execute_result"
    }
   ],
   "source": [
    "sample_data['Scroll Date'].unique()"
   ]
  },
  {
   "cell_type": "markdown",
   "metadata": {},
   "source": [
    "we need to convert the data based on months, but there are nan values present which we.. lets see if we can resolve that"
   ]
  },
  {
   "cell_type": "code",
   "execution_count": 16,
   "metadata": {},
   "outputs": [
    {
     "data": {
      "text/plain": [
       "(115,)"
      ]
     },
     "execution_count": 16,
     "metadata": {},
     "output_type": "execute_result"
    }
   ],
   "source": [
    "sample_data[pd.isnull(sample_data['Scroll Date'])]['Amount'].shape"
   ]
  },
  {
   "cell_type": "code",
   "execution_count": 18,
   "metadata": {},
   "outputs": [
    {
     "data": {
      "text/plain": [
       "620741.0"
      ]
     },
     "execution_count": 18,
     "metadata": {},
     "output_type": "execute_result"
    }
   ],
   "source": [
    "sample_data[pd.isnull(sample_data['Scroll Date'])]['Amount'].sum()"
   ]
  },
  {
   "cell_type": "code",
   "execution_count": 19,
   "metadata": {},
   "outputs": [],
   "source": [
    "sample_data['Combined Date'] = sample_data['Scroll Date'].fillna(sample_data['Bank Date'])"
   ]
  },
  {
   "cell_type": "code",
   "execution_count": 20,
   "metadata": {},
   "outputs": [],
   "source": [
    "sample_data['date'] = pd.to_datetime(sample_data['Combined Date'])"
   ]
  },
  {
   "cell_type": "code",
   "execution_count": 21,
   "metadata": {},
   "outputs": [],
   "source": [
    "sample_data['month_year'] = sample_data.date.apply(lambda x: x.strftime('%Y-%m'))"
   ]
  },
  {
   "cell_type": "code",
   "execution_count": 22,
   "metadata": {},
   "outputs": [],
   "source": [
    "sample_data['Amount'] = sample_data['Amount'].astype(float)"
   ]
  },
  {
   "cell_type": "code",
   "execution_count": 23,
   "metadata": {},
   "outputs": [
    {
     "data": {
      "text/plain": [
       "month_year\n",
       "2017-01         12502.000\n",
       "2017-03       3910235.000\n",
       "2017-04   36155057598.590\n",
       "2017-05   32523582527.750\n",
       "2017-06   30971253505.750\n",
       "2017-07   33273929781.330\n",
       "2017-08   23931005683.140\n",
       "2017-09   23127588640.250\n",
       "2017-10   22563026605.850\n",
       "2017-11   21562642904.400\n",
       "2017-12   24693686824.700\n",
       "2018-01   26118365581.230\n",
       "2018-02   22079600232.050\n",
       "2018-03   24435124023.000\n",
       "Name: Amount, dtype: float64"
      ]
     },
     "execution_count": 23,
     "metadata": {},
     "output_type": "execute_result"
    }
   ],
   "source": [
    "sample_data.groupby(['month_year'])['Amount'].sum()"
   ]
  },
  {
   "cell_type": "code",
   "execution_count": 71,
   "metadata": {},
   "outputs": [],
   "source": [
    "sample_data['day'] = sample_data.date.apply(lambda x: x.day)"
   ]
  },
  {
   "cell_type": "code",
   "execution_count": 72,
   "metadata": {},
   "outputs": [
    {
     "data": {
      "text/plain": [
       "day\n",
       "1       62523306.000\n",
       "2      687287021.000\n",
       "3       28690055.000\n",
       "4      727217669.000\n",
       "5      557357465.000\n",
       "6      583107320.000\n",
       "7      835706188.000\n",
       "8       26869268.000\n",
       "9       80286343.000\n",
       "10      40079560.000\n",
       "11    1454886744.000\n",
       "12     733750335.000\n",
       "13     927403803.000\n",
       "14      73833954.000\n",
       "15     260888000.000\n",
       "16    1278999922.000\n",
       "17      52737090.000\n",
       "18    2744658197.000\n",
       "19    1642041965.000\n",
       "20   11328319249.000\n",
       "21     871506023.000\n",
       "22     712699603.000\n",
       "23     256509275.000\n",
       "24      37551722.000\n",
       "25    1333508020.000\n",
       "26     623290707.000\n",
       "27     592815053.000\n",
       "28     741021481.000\n",
       "29     701431501.000\n",
       "30     895397893.000\n",
       "Name: Amount, dtype: float64"
      ]
     },
     "execution_count": 72,
     "metadata": {},
     "output_type": "execute_result"
    }
   ],
   "source": [
    "sample_data[sample_data['month_year'] == '2016-04'].groupby(['day'])['Amount'].sum()"
   ]
  },
  {
   "cell_type": "code",
   "execution_count": null,
   "metadata": {},
   "outputs": [],
   "source": []
  }
 ],
 "metadata": {
  "kernelspec": {
   "display_name": "Python 3",
   "language": "python",
   "name": "python3"
  },
  "language_info": {
   "codemirror_mode": {
    "name": "ipython",
    "version": 3
   },
   "file_extension": ".py",
   "mimetype": "text/x-python",
   "name": "python",
   "nbconvert_exporter": "python",
   "pygments_lexer": "ipython3",
   "version": "3.6.4"
  }
 },
 "nbformat": 4,
 "nbformat_minor": 2
}
