{
 "cells": [
  {
   "cell_type": "markdown",
   "metadata": {},
   "source": [
    "Tranformation of the data files extracted for AP district treasuries to the upload format we want for **OpenBudgetsIndia**\n",
    "\n",
    "The format we want is :-\n",
    "\n",
    "```\n",
    " |-- State_District\n",
    " |  | -- state_district_month_year.csv\n",
    "```"
   ]
  },
  {
   "cell_type": "code",
   "execution_count": 1,
   "metadata": {},
   "outputs": [],
   "source": [
    "import pandas as pd\n",
    "import os\n",
    "import csv"
   ]
  },
  {
   "cell_type": "code",
   "execution_count": 2,
   "metadata": {},
   "outputs": [
    {
     "name": "stdout",
     "output_type": "stream",
     "text": [
      "EASTGODAVARI.csv  SRIKAKULAM.csv     WESTGODAVARI.csv\r\n",
      "krishna.csv\t  VISAKHAPATNAM.csv\r\n"
     ]
    }
   ],
   "source": [
    "!ls ../csvs/ditrict_treasuries/ap/2016-17"
   ]
  },
  {
   "cell_type": "code",
   "execution_count": 11,
   "metadata": {},
   "outputs": [],
   "source": [
    "def transform_and_create(filepath, year):\n",
    "    data = pd.read_csv(filepath)\n",
    "    district_name = filepath.split('/')[-1].split('.')[0]\n",
    "    base_dir = '../csvs/ditrict_treasuries/andhra_pradesh/' + district_name\n",
    "    data['fin_year'] = year\n",
    "    if not os.path.isdir(base_dir):\n",
    "        os.makedirs(base_dir)\n",
    "    for month, group in data.groupby('MONTH'):\n",
    "        new_filename = 'andhra_pradesh_{2}_{0}_{1}.csv'.format(month, year, district_name)\n",
    "        new_filepath = os.path.join(base_dir, new_filename)\n",
    "        group.to_csv(new_filepath, index=False, quoting=csv.QUOTE_ALL)\n",
    "    return True"
   ]
  },
  {
   "cell_type": "code",
   "execution_count": 13,
   "metadata": {},
   "outputs": [],
   "source": [
    "csv_dir = '../csvs/ditrict_treasuries/ap/2016-17'\n",
    "for filename in os.listdir(csv_dir):\n",
    "    filename = os.path.join(csv_dir, filename)\n",
    "    transform_and_create(filename, '2016-17')"
   ]
  },
  {
   "cell_type": "code",
   "execution_count": 14,
   "metadata": {},
   "outputs": [],
   "source": [
    "csv_dir = '../csvs/ditrict_treasuries/ap/2017-18'\n",
    "for filename in os.listdir(csv_dir):\n",
    "    filename = os.path.join(csv_dir, filename)\n",
    "    transform_and_create(filename, '2017-18')"
   ]
  },
  {
   "cell_type": "code",
   "execution_count": null,
   "metadata": {},
   "outputs": [],
   "source": []
  }
 ],
 "metadata": {
  "kernelspec": {
   "display_name": "Python 3",
   "language": "python",
   "name": "python3"
  },
  "language_info": {
   "codemirror_mode": {
    "name": "ipython",
    "version": 3
   },
   "file_extension": ".py",
   "mimetype": "text/x-python",
   "name": "python",
   "nbconvert_exporter": "python",
   "pygments_lexer": "ipython3",
   "version": "3.6.4"
  }
 },
 "nbformat": 4,
 "nbformat_minor": 2
}
